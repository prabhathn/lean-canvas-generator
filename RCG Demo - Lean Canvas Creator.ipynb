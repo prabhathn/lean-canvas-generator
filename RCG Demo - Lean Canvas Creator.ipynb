{
 "metadata": {
  "kernelspec": {
   "display_name": "Streamlit Notebook",
   "name": "streamlit"
  },
  "lastEditStatus": {
   "notebookId": "kszys5cpt6gxrnnx3qnw",
   "authorId": "308287954429",
   "authorName": "ADMIN",
   "authorEmail": "prabhath.nanisetty@snowflake.com",
   "sessionId": "6f2ff115-195c-4551-ab45-41422076c9eb",
   "lastEditTime": 1745851894805
  }
 },
 "nbformat_minor": 5,
 "nbformat": 4,
 "cells": [
  {
   "cell_type": "markdown",
   "id": "dfa309d3-ef9f-44bc-a004-200fefc9e2fa",
   "metadata": {
    "name": "cell9",
    "collapsed": false
   },
   "source": "# Lean Canvas Creator\nUse an LLM model to expand on a product idea, either provided by a product manager or from aggregating/summarizing customer feedback.\n\nThis demo will cover the following topics:\n- PPTX file creation using `python-pptx` package\n- Cortex Complete to provide text for the different lean canvas components\n- Cortex Structured Outputs that ensures the response from the LLM is provided in the required JSON\n\n### Prerequisites:\n- A PowerPoint template with Placeholder Names mapped to Fields you want to edit\n\n>> Instructions for creating the template\n>> 1. In a new PPTX file, open up the Slide Master and create a new layout\n>> 2. Design your layouts using Placeholders (Slide Master ribbon -> Insert Placeholder)\n>> 3. Open the Selection Pane (Tools Menu -> Selection Pane...) and note the names of all the objects you want to edit\n\n\n### Demo Flow:\n1. Get ideas from idea repository\n2. Call Cortex Complete() with structured outputs to get the lean canvas text for each idea\n3. Create a PowerPoint Lean Canvas Deck\n4. Download or Write deck to stage"
  },
  {
   "cell_type": "code",
   "id": "db97acd9-6897-4093-8d71-d81e6b0cf00a",
   "metadata": {
    "language": "python",
    "name": "cell1"
   },
   "outputs": [],
   "source": "# Package Imports\nimport json\nimport modin.pandas as pd\nimport snowflake.snowpark.modin.plugin\nfrom pptx import Presentation\nfrom pptx.util import Pt\nfrom pptx.enum.text import MSO_AUTO_SIZE\nfrom snowflake.snowpark import Session\nfrom snowflake.cortex import complete, CompleteOptions",
   "execution_count": null
  },
  {
   "cell_type": "code",
   "id": "ad42fc46-e396-406f-b778-bf4f60551ab3",
   "metadata": {
    "language": "python",
    "name": "cell3"
   },
   "outputs": [],
   "source": "# Read from idea repository\n# Format used for this demo is the following\n#     |----------------|----------------|-----------------------------------------------------------|\n#     | TITLE          | PRODUCT        | IDEA_TEXT                                                 |\n#     |----------------|----------------|-----------------------------------------------------------|\n#     | Shoe Freshener | Charisma Paper | The next time your stinky sneakers and overworked socks   |\n#     |                | Towels         | need freshening, fight those unpleasant odors with paper  |\n#     |                |                | towels. Add a few drops of essential oil, like peppermint |\n#     |                |                | to a paper towel, crumple it up, and tuck it inside your  |\n#     |                |                | shoes. Leave them overnight for footwear that smells much |\n#     |                |                | better in the morning                                     |\n#     |----------------|----------------|-----------------------------------------------------------|\n#\n#\n# DON'T HAVE THE IDEA TABLE CREATED? Use the statement below instead if you don't have an idea repository created yet\n# ideas = ['A taxi service that you can call on demand from a mobile app']\n\nideas_df = pd.read_snowflake('CONCEPT_GEN_DB.CONCEPT_GEN_SCHEMA.IDEA_REPOSITORY')\nideas = ideas_df['IDEA_TEXT'].tolist()",
   "execution_count": null
  },
  {
   "cell_type": "code",
   "id": "1f6bd438-568c-43ff-936b-d8f56294562e",
   "metadata": {
    "language": "python",
    "name": "cell2"
   },
   "outputs": [],
   "source": "# Parameters and desired outputs for the LLM model invoked by Cortex Complete\n# The `CompleteOptions` object is used to specify the model parameters including the response format\ninstruction = 'Please provide the Lean Canvas components for this idea and return it in the required format: '\n\nresponse_format = {\n    'type':'json',\n    'schema': {\n        'type': 'object',\n        'properties': {\n            'title': {\n                'type':'string',\n                'description': 'A short title for the idea'\n            },\n            'description': {\n                'type':'string',\n                'description': 'A short description of the idea or product'\n            },\n            'problem': {\n                'type':'string',\n                'description': 'The top 3 problems that customers face'\n            },\n            'solution': {\n                'type':'string',\n                'description': 'Top 3 features or capabilities that solve this problem'\n            },\n            'uvp': {\n                'type':'string',\n                'description': 'The unique value proposition, a clear compelling message why this product is different'\n            },\n            'unfair_advantage': {\n                'type':'string',\n                'description': 'What is the unfair advantage or what cannot easily be copied'\n            },\n            'metrics': {\n                'type':'string',\n                'description': 'What are 1-2 metrics that can be used to judge success or if we have solved the problem'\n            },\n            'alternatives': {\n                'type':'string',\n                'description': 'What are some current alternatives or workarounds to the problem'\n            },\n            'analogy': {\n                'type':'string',\n                'description': 'What is an analogy of this product e.g. Like Uber for Music'\n            },\n            'channels': {\n                'type':'string',\n                'description': 'Where would we sell this product and how would we reach customers'\n            },\n            'segments': {\n                'type':'string',\n                'description': 'What types of consumer demographics would enjoy this product'\n            },\n            'adopters': {\n                'type':'string',\n                'description': 'Which of those consumers would be early adopters'\n            },\n            'costs': {\n                'type':'string',\n                'description': 'What are the different components of cost'\n            },\n            'revenue': {\n                'type':'string',\n                'description': 'What are some potential revenue streams'\n            },\n        },\n        'required': [\n            'title', 'description', 'problem', 'solution', 'uvp',\n            'unfair_advantage', 'metrics', 'alternatives', 'analogy',\n            'channels', 'segments', 'adopters', 'costs', 'revenue'\n        ]\n        \n    }\n}\n\noptions = CompleteOptions(\n    temperature=0,\n    max_tokens=4096,\n    response_format=response_format\n)",
   "execution_count": null
  },
  {
   "cell_type": "code",
   "id": "3e0cec10-26df-4be6-af64-7b4411bd806a",
   "metadata": {
    "language": "python",
    "name": "cell4"
   },
   "outputs": [],
   "source": "# Process all ideas and get a response from LLM for each Lean Canvas component\nlean_canvas_texts = []\n\nfor idea in ideas:\n    prompt = [{'role': 'user', 'content': instruction + idea}]\n    \n    response = complete(\n        model='mistral-large2',\n        prompt=prompt,\n        options=options\n    )\n    lean_canvas_texts.append(json.loads(response))",
   "execution_count": null
  },
  {
   "cell_type": "markdown",
   "id": "c0b6ff6f-4914-450a-942d-033969987813",
   "metadata": {
    "name": "cell6",
    "collapsed": false
   },
   "source": "## Create the Powerpoint Document\nWe will use the `python-pptx` package to edit the fields in a PowerPoint template file. You will need to have a PowerPoint template and the corresponding field names for editing (see instructions at the top)."
  },
  {
   "cell_type": "code",
   "id": "8b764a08-d885-4c85-b378-cf52e041f9ec",
   "metadata": {
    "language": "python",
    "name": "cell5"
   },
   "outputs": [],
   "source": "# Parameters for the PowerPoint Template\nLEAN_CANVAS_SLIDE_LAYOUT = 0  # Can get this by checking `prs.slide_layouts`\nPLACEHOLDERS_TO_LEAN_CANVAS_MAPPING = {\n    'Title 1': 'title', 'Subtitle 2': 'description', 'Text Placeholder 3': 'problem',\n    'Text Placeholder 4': 'solution', 'Text Placeholder 5': 'uvp', 'Text Placeholder 6': 'unfair_advantage',\n    'Text Placeholder 7': 'segments', 'Text Placeholder 8': 'alternatives', 'Text Placeholder 9': 'metrics',\n    'Text Placeholder 10': 'analogy', 'Text Placeholder 11': 'channels', 'Text Placeholder 12': 'adopters',\n    'Text Placeholder 13': 'costs', 'Text Placeholder 14': 'revenue'\n}  # Need to map the names of the powerpoint placeholders to the values in the `response_format` above\n\n# Create a presentation object from your template\nprs = Presentation('lean_canvas_template_v2.pptx')\nlean_canvas_layout = prs.slide_layouts[LEAN_CANVAS_SLIDE_LAYOUT]",
   "execution_count": null
  },
  {
   "cell_type": "code",
   "id": "dee03e9a-83b0-4ecc-b113-22ac6c93d464",
   "metadata": {
    "language": "python",
    "name": "cell16"
   },
   "outputs": [],
   "source": "# Create a lean-canvas for each of the product ideas\nfor text in lean_canvas_texts:\n    slide = prs.slides.add_slide(lean_canvas_layout)\n\n    # Identify all the relevant textboxes for editing (from the slide layout template)\n    shapes_to_edit = []\n    for shape in slide.shapes:\n        if shape.name in PLACEHOLDERS_TO_LEAN_CANVAS_MAPPING.keys():\n            shapes_to_edit.append(shape)\n\n    # Add text from LLM response into the appropriate textbox\n    for textbox in shapes_to_edit:\n        input_text = text[PLACEHOLDERS_TO_LEAN_CANVAS_MAPPING[textbox.name]]        \n        textbox.text = input_text",
   "execution_count": null
  },
  {
   "cell_type": "markdown",
   "id": "594b752f-4f4a-4240-9c62-8961f53dd2a1",
   "metadata": {
    "name": "cell7",
    "collapsed": false
   },
   "source": "## Download Completed Lean Canvases"
  },
  {
   "cell_type": "code",
   "id": "5e38f363-fc75-49fc-a953-c950247c09e5",
   "metadata": {
    "language": "python",
    "name": "cell8"
   },
   "outputs": [],
   "source": "# Download using Streamlit's download_button\nimport streamlit as st\nfrom io import BytesIO\n\nfinal_canvas = BytesIO()\nprs.save(final_canvas)\n\nst.download_button(\n    label='Download',\n    data=final_canvas,\n    file_name='final_lean_canvas.pptx',\n    mime='application/vnd.ms-powerpoint',\n)",
   "execution_count": null
  }
 ]
}